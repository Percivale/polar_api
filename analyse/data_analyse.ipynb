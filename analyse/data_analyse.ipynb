{
 "cells": [
  {
   "cell_type": "code",
   "execution_count": 2,
   "id": "903732e9",
   "metadata": {},
   "outputs": [
    {
     "name": "stdout",
     "output_type": "stream",
     "text": [
      "The autoreload extension is already loaded. To reload it, use:\n",
      "  %reload_ext autoreload\n"
     ]
    }
   ],
   "source": [
    "#NB bruk myspss channel!\n",
    "%matplotlib inline\n",
    "%load_ext autoreload\n",
    "%autoreload 2\n",
    "import pandas as pd\n",
    "import numpy as np\n",
    "import matplotlib.pyplot as plt\n",
    "import os\n",
    "import pyreadstat\n",
    "import file as f\n",
    "from file import plot\n",
    "import datetime"
   ]
  },
  {
   "cell_type": "markdown",
   "id": "73d734f0-258b-4299-bf53-205226e32404",
   "metadata": {},
   "source": [
    "### Kode-tips\n",
    "file variablen inneholder sti til spss data. Hvis du vil lage en link: [vg](https://www.vg.no/). Skråskrift er *slik*, bold skrift er **slik**\n",
    "\n",
    "* kkjk\n",
    "* ljkkj"
   ]
  },
  {
   "cell_type": "code",
   "execution_count": 3,
   "id": "86f9de97-7d32-48a6-bb9b-1b4cf3f06268",
   "metadata": {},
   "outputs": [
    {
     "name": "stdout",
     "output_type": "stream",
     "text": [
      "[ 3.  3.  3.  3.  3. nan  3. nan]\n",
      "nan\n",
      "3.0\n"
     ]
    }
   ],
   "source": [
    "x=np.array([3,3,3,3,3,float('NaN'),3,float('NaN')])\n",
    "print(x)\n",
    "print(np.mean(x)) # dette vil gi nan\n",
    "print(np.nanmean(x)) # dette vil fjerne alle NaN før gjennomsnitt blir tatt"
   ]
  },
  {
   "cell_type": "markdown",
   "id": "db97eeee-a6d3-458b-ad3c-092a4c874399",
   "metadata": {},
   "source": [
    "# FIRST "
   ]
  },
  {
   "cell_type": "markdown",
   "id": "dd38c71e-f9ea-40a3-bdf9-35e4a7f154b5",
   "metadata": {},
   "source": [
    "## Deskriptiv statistikk "
   ]
  },
  {
   "cell_type": "markdown",
   "id": "23f383a9-3c66-49f6-8326-7af4378cce0e",
   "metadata": {},
   "source": [
    "#Henter ikke spss filer.. hva er galt?"
   ]
  },
  {
   "cell_type": "code",
   "execution_count": 8,
   "id": "1def4cd2-67af-4544-ac18-59cff997f0a2",
   "metadata": {},
   "outputs": [
    {
     "name": "stdout",
     "output_type": "stream",
     "text": [
      "starting..\n",
      "finnished..\n"
     ]
    }
   ],
   "source": [
    "path=\"//ihelse.net/Forskning/hst/ID1321/\"\n",
    "\n",
    "FIRST_combined = f.get_combined_data(path, subname= \"FIRST\", avoid_folder= \"Gamle\",debug=True)\n"
   ]
  },
  {
   "cell_type": "code",
   "execution_count": 6,
   "id": "d40779a1-8f4c-46ee-a0c1-44c8130ff52e",
   "metadata": {},
   "outputs": [
    {
     "name": "stdout",
     "output_type": "stream",
     "text": [
      "/mnt/c/Users/2902412/git_repo/polar_api/analyse\n"
     ]
    }
   ],
   "source": [
    "mappe=\"//ihelse.net/Forskning/hst/ID1321/\"\n",
    "mappe='../data/'\n",
    "print(os.getcwd())\n",
    "df=pd.read_spss(mappe+\"FIRST_test_python_2022.01.20.sav\")"
   ]
  },
  {
   "cell_type": "code",
   "execution_count": 7,
   "id": "ade3ee37-df1c-47fe-b2d1-a3bf549f06da",
   "metadata": {},
   "outputs": [
    {
     "name": "stdout",
     "output_type": "stream",
     "text": [
      "Index(['ID', 'Age', 'Gender', 'Intervention_Type', 'Height',\n",
      "       'Highest_education', 'Highest_education_yr', 'Work_status_adm',\n",
      "       'Livingsituation_adm', 'Activity_prior_frequency_adm',\n",
      "       ...\n",
      "       'GripStrength_avg_R_adm', 'GripStrength_avg_L_adm', 'Dominant_hand',\n",
      "       'VO2peak_Date_adm', 'VO2peak_adm_ReasonNotDone_adm', 'VO2peak_adm',\n",
      "       'VO2_HR_end_adm', 'VO2_Recovery_HR_1min_adm',\n",
      "       'VO2_Recovery_HR_2min_adm', 'VO2_termination_reason_adm'],\n",
      "      dtype='object', length=170)\n"
     ]
    }
   ],
   "source": [
    "print(df.columns)"
   ]
  },
  {
   "cell_type": "code",
   "execution_count": 8,
   "id": "e030b9c0-1ca0-4641-ba52-883145ab759d",
   "metadata": {},
   "outputs": [
    {
     "data": {
      "text/plain": [
       "62.8"
      ]
     },
     "execution_count": 8,
     "metadata": {},
     "output_type": "execute_result"
    }
   ],
   "source": [
    "np.mean(df['Age'])"
   ]
  },
  {
   "cell_type": "markdown",
   "id": "6a574e1d-be2e-4d63-bb57-f07a42ba69c9",
   "metadata": {},
   "source": [
    "#Hvordan finne antall kvinner og prosent kvinner?"
   ]
  },
  {
   "cell_type": "code",
   "execution_count": 9,
   "id": "78d8a959-57d0-4011-927e-19484008c751",
   "metadata": {},
   "outputs": [
    {
     "data": {
      "text/plain": [
       "0.68"
      ]
     },
     "execution_count": 9,
     "metadata": {},
     "output_type": "execute_result"
    }
   ],
   "source": [
    "a=df['Gender'].value_counts()\n",
    "a['Male']/(a['Male']+a['Female'])"
   ]
  },
  {
   "cell_type": "code",
   "execution_count": 25,
   "id": "613b44ac-68f0-40dc-8e53-7a66018d5901",
   "metadata": {},
   "outputs": [
    {
     "name": "stdout",
     "output_type": "stream",
     "text": [
      "reading file  FIRST_ADM_2022.01.18.sav\n",
      "Age  middelverdi=  65.96 standardavvik=  14.901006677402705\n",
      "Height  middelverdi=  176.54166666666666 standardavvik=  8.963593838006808\n"
     ]
    }
   ],
   "source": [
    "mappe=\"//ihelse.net/Forskning/hst/ID1321/\"\n",
    "files=[\"FIRST_ADM_2022.01.18.sav\"]\n",
    "middel,stand=f.gjennomsnitt_test(files,columns=[\"Age\",\"Height\"])"
   ]
  },
  {
   "cell_type": "code",
   "execution_count": 8,
   "id": "ddff9ceb-5096-4ccf-a45c-00b97679cb23",
   "metadata": {},
   "outputs": [
    {
     "data": {
      "text/plain": [
       "Series([], Name: Gender, dtype: category\n",
       "Categories (2, object): ['Female', 'Male'])"
      ]
     },
     "execution_count": 8,
     "metadata": {},
     "output_type": "execute_result"
    }
   ],
   "source": [
    "df['Gender'][df['Gender']==1]"
   ]
  },
  {
   "cell_type": "code",
   "execution_count": 6,
   "id": "c4cf3257-2142-4df4-83a8-1a7d1c635684",
   "metadata": {},
   "outputs": [
    {
     "ename": "NameError",
     "evalue": "name 'gjennomsnitt_test' is not defined",
     "output_type": "error",
     "traceback": [
      "\u001b[1;31m---------------------------------------------------------------------------\u001b[0m",
      "\u001b[1;31mNameError\u001b[0m                                 Traceback (most recent call last)",
      "\u001b[1;32m~\\AppData\\Local\\Temp/ipykernel_14540/617272275.py\u001b[0m in \u001b[0;36m<module>\u001b[1;34m\u001b[0m\n\u001b[1;32m----> 1\u001b[1;33m gjennomsnitt_test(files=[\"FIRST_ADM_2022.01.18.sav\",\"FIRST_wk1_2022.01.18.sav\",\"FIRST_wk2_2022.01.18.sav\",\n\u001b[0m\u001b[0;32m      2\u001b[0m        \u001b[1;34m\"FIRST_wk3_2022.01.18.sav\"\u001b[0m\u001b[1;33m,\u001b[0m\u001b[1;34m\"FIRST_wk4_2022.01.18.sav\"\u001b[0m\u001b[1;33m,\u001b[0m\u001b[1;34m\"FIRST_wk5_2022.01.18.sav\"\u001b[0m\u001b[1;33m,\u001b[0m\u001b[1;34m\"FIRST_DC_2022.01.18.sav\"\u001b[0m\u001b[1;33m,\u001b[0m\u001b[1;33m\u001b[0m\u001b[1;33m\u001b[0m\u001b[0m\n\u001b[0;32m      3\u001b[0m        \"FIRST_3M_2022.01.18_1.sav\"])\n",
      "\u001b[1;31mNameError\u001b[0m: name 'gjennomsnitt_test' is not defined"
     ]
    }
   ],
   "source": [
    "gjennomsnitt_test(files=[\"FIRST_ADM_2022.01.18.sav\",\"FIRST_wk1_2022.01.18.sav\",\"FIRST_wk2_2022.01.18.sav\",\n",
    "       \"FIRST_wk3_2022.01.18.sav\",\"FIRST_wk4_2022.01.18.sav\",\"FIRST_wk5_2022.01.18.sav\",\"FIRST_DC_2022.01.18.sav\",\n",
    "       \"FIRST_3M_2022.01.18_1.sav\"])"
   ]
  },
  {
   "cell_type": "markdown",
   "id": "65979593",
   "metadata": {},
   "source": [
    "### Oversikt fysiotimer\n",
    "Søke igjennom Excel filer som begynner på **Clinical** for hver enkelt deltager for å \n",
    "* finne gjennomsnittlig treningssone som % av HR max\n",
    "* finne % tid i treningssone >=70% HRmax"
   ]
  },
  {
   "cell_type": "code",
   "execution_count": 18,
   "id": "cb7cba03",
   "metadata": {},
   "outputs": [
    {
     "name": "stdout",
     "output_type": "stream",
     "text": [
      "starting..\n",
      "Reading  Clinical_6001_2022.01.11.xlsx , shape= (9, 40)\n",
      "Reading  Clinical_6002_2022.01.11.xlsx , shape= (10, 40)\n",
      "Reading  Clinical_6003_2022.01.11.xlsx , shape= (8, 40)\n",
      "Reading  Clinical_6004_2022.01.11.xlsx , shape= (15, 40)\n",
      "Reading  Clinical_6005_2022.01.17.xlsx , shape= (29, 40)\n",
      "Reading  Clinical_6006_22.01.11.xlsx , shape= (7, 40)\n",
      "Reading  Clinical_6007_22.01.11.xlsx , shape= (22, 40)\n",
      "Reading  Clinical_6008_22.01.11.xlsx , shape= (10, 40)\n",
      "Reading  Clinical_6009_22.01.11.xlsx , shape= (29, 40)\n",
      "Reading  Clinical_6010_22.01.11.xlsx , shape= (10, 40)\n",
      "Reading  Clinical_6011_22.01.11.xlsx , shape= (25, 40)\n",
      "Reading  Clinical_6012_22.01.11.xlsx , shape= (37, 40)\n",
      "Reading  Clinical_6013_22.01.11.xlsx , shape= (12, 40)\n",
      "Reading  Clinical_6014_22.01.11.xlsx , shape= (36, 40)\n",
      "Reading  Clinical_6015_22.01.11.xlsx , shape= (13, 40)\n",
      "Reading  Clinical_6016_22.01.11.xlsx , shape= (17, 40)\n",
      "Reading  Clinical_6017_22.01.11.xlsx , shape= (15, 40)\n",
      "Reading  Clinical_6018_22.01.11.xlsx , shape= (20, 40)\n",
      "Reading  Clinical_6019_22.01.11.xlsx , shape= (19, 40)\n",
      "Reading  Clinical_6020_22.01.11.xlsx , shape= (19, 40)\n",
      "Reading  Clinical_6021_22.01.11.xlsx , shape= (17, 40)\n",
      "Reading  Clinical_6022_22.01.11.xlsx , shape= (18, 40)\n",
      "Reading  clinical_6023_21.12.23.xlsx , shape= (49, 40)\n",
      "Reading  clinical_6024_21.12.23.xlsx , shape= (49, 40)\n",
      "Reading  clinical_6025_21.12.23.xlsx , shape= (49, 40)\n",
      "Reading  clinical_6026_21.mm.dd.xlsx , shape= (49, 40)\n",
      "Reading  clinical_60XX_21.mm.dd.xlsx , shape= (49, 40)\n",
      "Reading  clinical_60XX_21.mm.dd.xlsx , shape= (49, 40)\n",
      "Reading  clinical_60XX_21.mm.dd.xlsx , shape= (49, 40)\n",
      "Reading  clinical_60XX_21.mm.dd.xlsx , shape= (49, 40)\n",
      "finnished..\n"
     ]
    }
   ],
   "source": [
    "path=\"Z:\\\\\"\n",
    "\n",
    "combined = f.get_combined_data(path, subname = \"Clinical\", avoid_folder = \"Gamle\",debug=True)\n",
    "\n",
    "\n"
   ]
  },
  {
   "cell_type": "code",
   "execution_count": 19,
   "id": "fc697a18",
   "metadata": {},
   "outputs": [
    {
     "name": "stdout",
     "output_type": "stream",
     "text": [
      "Index(['ID', 'HR_max', 'Betablocker', 'Nr_treatment', 'Site', 'Date',\n",
      "       'reason_cancelled', 'starttime', 'Endtime', 'Polar_time',\n",
      "       'Time_in_zone', 'treatment_time', 'percent_time_in_zone', 'Peak_HR',\n",
      "       'Avg_HR', 'RPE_mean', 'Time_RPE_target', 'HIGT_percent', 'GT_percent',\n",
      "       'Lex_percent', 'Uex_percent', 'Transfers_percent', 'Wheelchair_percent',\n",
      "       'Balance_percent', 'stb_persent', 'outcome_percent', 'passive_percent',\n",
      "       'session_percent', 'HIGT_min', 'GT_min', 'Lex_min', 'Uex_min',\n",
      "       'UexTS_min', 'Transfers_min', 'Wheelchair_min', 'Balance_min',\n",
      "       'outcome_min', 'Passive_min', 'Other_min', 'Other_comment'],\n",
      "      dtype='object')\n"
     ]
    }
   ],
   "source": [
    "print(combined.columns)"
   ]
  },
  {
   "cell_type": "markdown",
   "id": "2d42903c-0c04-47a7-822a-94923889e157",
   "metadata": {},
   "source": [
    "### Prosentandel treningstype\n",
    "Finner prosentandel treningstyper i behandling av typen i forhold til registrert Polartid"
   ]
  },
  {
   "cell_type": "markdown",
   "id": "5fda942a-88e2-4b17-912a-9d8bd937feca",
   "metadata": {},
   "source": [
    "# må legge inn en if Polar_time =0 så ignorer\n",
    "Dette er tilfeller hvor polarklokken ikke er satt på"
   ]
  },
  {
   "cell_type": "markdown",
   "id": "87a1a047-c81a-4dd7-8751-4881413123a6",
   "metadata": {},
   "source": [
    "# sum_treningstyper=sum('HIGT_min','GT_min','Lex_min','Uex_min',\n",
    "       'UexTS_min', 'Transfers_min', 'Wheelchair_min', 'Balance_min',\n",
    "       'outcome_min', 'Passive_min)"
   ]
  },
  {
   "cell_type": "code",
   "execution_count": 20,
   "id": "35e0af99-ee24-4957-931d-deeaf2d65aee",
   "metadata": {},
   "outputs": [
    {
     "name": "stdout",
     "output_type": "stream",
     "text": [
      "Disse ID [6004. 6005. 6006. 6007. 6009. 6010. 6011. 6012. 6013. 6014. 6015. 6016.\n",
      " 6017. 6018. 6019. 6020. 6021. 6022.   nan]  nr har ikke korrekt Polar_time\n"
     ]
    }
   ],
   "source": [
    "# sjekk om rett tidsformat hh:mm:ss\n",
    "col='Polar_time'\n",
    "PT=combined[col]\n",
    "ID=combined['ID']\n",
    "val=[not isinstance(PTi, datetime.time) for PTi in PT]\n",
    "print('Disse ID ' + str(np.unique((ID[val])))+'  nr har ikke korrekt ' + col )"
   ]
  },
  {
   "cell_type": "code",
   "execution_count": 21,
   "id": "b7a821a3-213d-46ff-b7c7-99925d4055fb",
   "metadata": {},
   "outputs": [
    {
     "name": "stdout",
     "output_type": "stream",
     "text": [
      "Percent of exercise are high intensity gait training are 0.0\n"
     ]
    }
   ],
   "source": [
    "ID,HIGT_percent=f.gen_percent(combined, teller=\"HIGT_min\",nevner=\"Polar_time\")\n",
    "print ('Percent of exercise are high intensity gait training are {:.4}'.format(np.nanmean(HIGT_percent)))\n"
   ]
  },
  {
   "cell_type": "code",
   "execution_count": 22,
   "id": "3b7b41c4-3a14-43ca-957c-40d5f64f737d",
   "metadata": {},
   "outputs": [
    {
     "name": "stdout",
     "output_type": "stream",
     "text": [
      "Percent of exercise are gait training are 26.74\n"
     ]
    }
   ],
   "source": [
    "\n",
    "ID,GT_percent=f.gen_percent(combined, teller=\"GT_min\",nevner=\"Polar_time\")\n",
    "print ('Percent of exercise are gait training are {:.4}'.format(np.nanmean(GT_percent)))\n"
   ]
  },
  {
   "cell_type": "code",
   "execution_count": 23,
   "id": "0f715672-5197-46a8-abce-19c314faf723",
   "metadata": {},
   "outputs": [
    {
     "name": "stdout",
     "output_type": "stream",
     "text": [
      "Mean time gait training for all participants are 8.548 min, std 12.3\n"
     ]
    }
   ],
   "source": [
    "GTtid_mean=np.nanmean(f.convert_if_datetime(combined[\"GT_min\"]))\n",
    "GTtid_std=np.nanstd(f.convert_if_datetime(combined[\"GT_min\"]))\n",
    "print('Mean time gait training for all participants are {:.4} min, std {:.4}'.format(GTtid_mean, GTtid_std))"
   ]
  },
  {
   "cell_type": "code",
   "execution_count": 24,
   "id": "a55a0b1f-8232-4737-a893-62ca7c822d7b",
   "metadata": {},
   "outputs": [
    {
     "name": "stdout",
     "output_type": "stream",
     "text": [
      "Percent of exercise in lower exremities are 5.561\n"
     ]
    }
   ],
   "source": [
    "ID,Lex_percent=f.gen_percent(combined, teller=\"Lex_min\",nevner=\"Polar_time\")\n",
    "#print(Lex_percent)\n",
    "print ('Percent of exercise in lower exremities are {:.4}'.format(np.nanmean(Lex_percent)))"
   ]
  },
  {
   "cell_type": "code",
   "execution_count": 25,
   "id": "efbf5f6c-9725-417c-97f1-1b9a2bc17594",
   "metadata": {},
   "outputs": [
    {
     "name": "stdout",
     "output_type": "stream",
     "text": [
      "Mean time lower extremity exercise for all participants are 1.591 min, std 4.702\n"
     ]
    }
   ],
   "source": [
    "Lex_tid_mean=np.nanmean(f.convert_if_datetime(combined[\"Lex_min\"]))\n",
    "Lex_tid_std=np.nanstd(f.convert_if_datetime(combined[\"Lex_min\"]))\n",
    "print('Mean time lower extremity exercise for all participants are {:.4} min, std {:.4}'.format(Lex_tid_mean, Lex_tid_std))"
   ]
  },
  {
   "cell_type": "code",
   "execution_count": 26,
   "id": "1e435acd-a9ff-49fd-97a9-4eec85196840",
   "metadata": {},
   "outputs": [
    {
     "name": "stdout",
     "output_type": "stream",
     "text": [
      "Percent of exercise in upper exremities are 4.952\n"
     ]
    }
   ],
   "source": [
    "ID,Uex_percent=f.gen_percent(combined, teller=\"Uex_min\",nevner=\"Polar_time\")\n",
    "print ('Percent of exercise in upper exremities are {:.4}'.format(np.nanmean(Uex_percent)))"
   ]
  },
  {
   "cell_type": "code",
   "execution_count": 27,
   "id": "ae22f91f-339a-4d3f-a312-363d9452b39a",
   "metadata": {},
   "outputs": [
    {
     "name": "stdout",
     "output_type": "stream",
     "text": [
      "Mean time upper extremity exercise for all participants are 1.624 min, std 6.641\n"
     ]
    }
   ],
   "source": [
    "Uex_tid_mean=np.nanmean(f.convert_if_datetime(combined[\"Uex_min\"]))\n",
    "Uex_tid_std=np.nanstd(f.convert_if_datetime(combined[\"Uex_min\"]))\n",
    "print('Mean time upper extremity exercise for all participants are {:.4} min, std {:.4}'.format(Uex_tid_mean, Uex_tid_std))"
   ]
  },
  {
   "cell_type": "code",
   "execution_count": 28,
   "id": "b103c5a5-4ce1-413e-a7bf-3dde027d82cd",
   "metadata": {},
   "outputs": [
    {
     "name": "stdout",
     "output_type": "stream",
     "text": [
      "Percent of upper extremity task spesific exercise are 3.447\n"
     ]
    }
   ],
   "source": [
    "ID,UexTS_percent=f.gen_percent(combined, teller=\"UexTS_min\",nevner=\"Polar_time\")\n",
    "print ('Percent of upper extremity task spesific exercise are {:.4}'.format(np.nanmean(UexTS_percent)))"
   ]
  },
  {
   "cell_type": "code",
   "execution_count": 29,
   "id": "d5785aeb-3bc7-48ae-87db-aa7b1afcf318",
   "metadata": {},
   "outputs": [
    {
     "name": "stdout",
     "output_type": "stream",
     "text": [
      "Mean time upper extremity task spesific exercise for all participants are 0.9274 min, std 4.609\n"
     ]
    }
   ],
   "source": [
    "UexTS_min_mean=np.nanmean(f.convert_if_datetime(combined[\"UexTS_min\"]))\n",
    "UexTS_min_std=np.nanstd(f.convert_if_datetime(combined[\"UexTS_min\"]))\n",
    "print('Mean time upper extremity task spesific exercise for all participants are {:.4} min, std {:.4}'.format(UexTS_min_mean, UexTS_min_std))"
   ]
  },
  {
   "cell_type": "code",
   "execution_count": 30,
   "id": "0b64b8fc-52d2-45e0-8e80-ef285ed02c38",
   "metadata": {},
   "outputs": [
    {
     "name": "stdout",
     "output_type": "stream",
     "text": [
      "Percent of transfers exercise are 2.436\n"
     ]
    }
   ],
   "source": [
    "ID,Transfers_percent=f.gen_percent(combined, teller=\"Transfers_min\",nevner=\"Polar_time\")\n",
    "print ('Percent of transfers exercise are {:.4}'.format(np.nanmean(Transfers_percent)))"
   ]
  },
  {
   "cell_type": "code",
   "execution_count": 31,
   "id": "dbf16198-8053-448e-8060-985cfcf1c30a",
   "metadata": {},
   "outputs": [
    {
     "name": "stdout",
     "output_type": "stream",
     "text": [
      "Mean transfers exercise for all participants are 0.7984 min, std 3.315\n"
     ]
    }
   ],
   "source": [
    "Transfers_min_mean=np.nanmean(f.convert_if_datetime(combined[\"Transfers_min\"]))\n",
    "Transfers_min_std=np.nanstd(f.convert_if_datetime(combined[\"Transfers_min\"]))\n",
    "print('Mean transfers exercise for all participants are {:.4} min, std {:.4}'.format(Transfers_min_mean, Transfers_min_std))"
   ]
  },
  {
   "cell_type": "code",
   "execution_count": 32,
   "id": "d1d96ab9-da91-430a-8b87-8305a23928ce",
   "metadata": {},
   "outputs": [
    {
     "name": "stdout",
     "output_type": "stream",
     "text": [
      "Percent of Wheelchair exercise are 0.1359\n"
     ]
    }
   ],
   "source": [
    "ID,Wheelchair_percent=f.gen_percent(combined, teller=\"Wheelchair_min\",nevner=\"Polar_time\")\n",
    "print ('Percent of Wheelchair exercise are {:.4}'.format(np.nanmean(Wheelchair_percent)))"
   ]
  },
  {
   "cell_type": "code",
   "execution_count": 33,
   "id": "ea136952-fa3d-4c50-a3e2-16b5673cf45e",
   "metadata": {},
   "outputs": [
    {
     "name": "stdout",
     "output_type": "stream",
     "text": [
      "Mean time wheelchair exercise for all participants are 0.05376 min, std 0.637\n"
     ]
    }
   ],
   "source": [
    "Wheelchair_min_mean=np.nanmean(f.convert_if_datetime(combined[\"Wheelchair_min\"]))\n",
    "Wheelchair_min_std=np.nanstd(f.convert_if_datetime(combined[\"Wheelchair_min\"]))\n",
    "print('Mean time wheelchair exercise for all participants are {:.4} min, std {:.4}'.format(Wheelchair_min_mean, Wheelchair_min_std))"
   ]
  },
  {
   "cell_type": "code",
   "execution_count": 34,
   "id": "b6c224da-f0bb-4cc2-ba07-f57f95829507",
   "metadata": {},
   "outputs": [
    {
     "name": "stdout",
     "output_type": "stream",
     "text": [
      "Percent of balance exercise are 10.75\n"
     ]
    }
   ],
   "source": [
    "ID,Balance_percent=f.gen_percent(combined, teller=\"Balance_min\",nevner=\"Polar_time\")\n",
    "print ('Percent of balance exercise are {:.4}'.format(np.nanmean(Balance_percent)))"
   ]
  },
  {
   "cell_type": "code",
   "execution_count": 35,
   "id": "92e8fc73-3fc7-4ab7-85dc-f8f2fd47510c",
   "metadata": {},
   "outputs": [
    {
     "name": "stdout",
     "output_type": "stream",
     "text": [
      "Mean time balance exercise for all participants are 2.255 min, std 6.588\n"
     ]
    }
   ],
   "source": [
    "Balance_min_mean=np.nanmean(f.convert_if_datetime(combined[\"Balance_min\"]))\n",
    "Balance_min_std=np.nanstd(f.convert_if_datetime(combined[\"Balance_min\"]))\n",
    "print('Mean time balance exercise for all participants are {:.4} min, std {:.4}'.format(Balance_min_mean, Balance_min_std))"
   ]
  },
  {
   "cell_type": "code",
   "execution_count": 36,
   "id": "6b5a5743-5450-4dd0-9441-ebeefab7b51f",
   "metadata": {},
   "outputs": [
    {
     "name": "stdout",
     "output_type": "stream",
     "text": [
      "Percent of Passive treatment are 9.054\n"
     ]
    }
   ],
   "source": [
    "ID,Passive_percent=f.gen_percent(combined, teller=\"Passive_min\",nevner=\"Polar_time\")\n",
    "print ('Percent of Passive treatment are {:.4}'.format(np.nanmean(Passive_percent)))"
   ]
  },
  {
   "cell_type": "code",
   "execution_count": 37,
   "id": "4ce25250-918d-4350-a932-d52fa6eb52a7",
   "metadata": {},
   "outputs": [
    {
     "name": "stdout",
     "output_type": "stream",
     "text": [
      "Mean time passive treatment for all participants are 0.8817 min, std 3.662\n"
     ]
    }
   ],
   "source": [
    "Passive_min_mean=np.nanmean(f.convert_if_datetime(combined[\"Passive_min\"]))\n",
    "Passive_min_std=np.nanstd(f.convert_if_datetime(combined[\"Passive_min\"]))\n",
    "print('Mean time passive treatment for all participants are {:.4} min, std {:.4}'.format(Passive_min_mean, Passive_min_std))"
   ]
  },
  {
   "cell_type": "code",
   "execution_count": 38,
   "id": "33b782d6-c26c-4ce5-b120-c32ec2250390",
   "metadata": {},
   "outputs": [
    {
     "name": "stdout",
     "output_type": "stream",
     "text": [
      "Mean time outcome measure for all participants are 20.98 min, std 30.36\n"
     ]
    }
   ],
   "source": [
    "outcome_min_mean=np.nanmean(f.convert_if_datetime(combined[\"outcome_min\"]))\n",
    "outcome_min_std=np.nanstd(f.convert_if_datetime(combined[\"outcome_min\"]))\n",
    "print('Mean time outcome measure for all participants are {:.4} min, std {:.4}'.format(outcome_min_mean, outcome_min_std))"
   ]
  },
  {
   "cell_type": "code",
   "execution_count": 39,
   "id": "137b476c-968a-4be0-a75f-0ae5779a0a6a",
   "metadata": {},
   "outputs": [
    {
     "name": "stdout",
     "output_type": "stream",
     "text": [
      "Percent of outcome measure are 77.8\n"
     ]
    }
   ],
   "source": [
    "ID,outcome_percent=f.gen_percent(combined, teller=\"outcome_min\",nevner=\"Polar_time\")\n",
    "print ('Percent of outcome measure are {:.4}'.format(np.nanmean(outcome_percent)))"
   ]
  },
  {
   "cell_type": "markdown",
   "id": "49acd2e0-2417-41fc-8544-ce0abdc7abc3",
   "metadata": {},
   "source": [
    "### Kakediagram treningstyper"
   ]
  },
  {
   "cell_type": "code",
   "execution_count": 40,
   "id": "9ae255d9-a173-4541-9c34-333c51badee5",
   "metadata": {},
   "outputs": [
    {
     "name": "stdout",
     "output_type": "stream",
     "text": [
      "[ 0.         26.74343546  5.56107755  4.95236176  3.44665988  2.43639679\n",
      "  0.13594899 10.75054812 77.79714235  9.05421537]\n"
     ]
    },
    {
     "data": {
      "image/png": "[encoded data removed]",
      "text/plain": [
       "<Figure size 1332x756 with 1 Axes>"
      ]
     },
     "metadata": {},
     "output_type": "display_data"
    }
   ],
   "source": [
    "\n",
    "# Pie chart, where the slices will be ordered and plotted counter-clockwise:\n",
    "labels = 'High Intensity Gait Training','Task specific gait training','Lower extremity therapeutic exercise','Upper extremity exercise','Upper extremity task specific training','Transfers and bed mobility','Wheelchair mobility','Pre-gait sitting or standing balance','Outcome measures','Stretching/passive treatment'\n",
    "\n",
    "sizes = [HIGT_percent,GT_percent,Lex_percent,Uex_percent,UexTS_percent,Transfers_percent,Wheelchair_percent, Balance_percent, outcome_percent,Passive_percent]\n",
    "explode = (0.1, 0.1, 0, 0, 0, 0, 0, 0, 0, 0)  # only \"explode\" the 2nd slice (i.e. 'Hogs')\n",
    "print(np.nanmean(sizes,axis=1))\n",
    "fig1, ax1 = plt.subplots()\n",
    "\n",
    "ax1.pie(np.nanmean(sizes,axis=1), explode=explode, labels=labels, autopct='%1.1f%%',\n",
    "        shadow=True, startangle=90)\n",
    "ax1.axis('equal')  # Equal aspect ratio ensures that pie is drawn as a circle.\n",
    "\n",
    "fig1.set_size_inches(18.5, 10.5)\n",
    "plt.show()"
   ]
  },
  {
   "cell_type": "markdown",
   "id": "c364b058-40ab-41fb-b271-a7e04dd8f715",
   "metadata": {},
   "source": [
    "Other er ikke med i Polar-tiden her inngår BT måling, transport, rydding, snakking"
   ]
  },
  {
   "cell_type": "code",
   "execution_count": 74,
   "id": "37197e69-5677-42bc-a538-c18ce0dd98d0",
   "metadata": {},
   "outputs": [
    {
     "name": "stdout",
     "output_type": "stream",
     "text": [
      "Mean time other treatment including talking, BP, cleaning, transportation for all participants are 5.363 min, std 7.325\n"
     ]
    }
   ],
   "source": [
    "Other_min_mean=np.nanmean(f.convert_if_datetime(combined[\"Other_min\"]))\n",
    "Other_min_std=np.nanstd(f.convert_if_datetime(combined[\"Other_min\"]))\n",
    "print('Mean time other treatment including talking, BP, cleaning, transportation for all participants are {:.4} min, std {:.4}'.format(Other_min_mean, Other_min_std))"
   ]
  },
  {
   "cell_type": "code",
   "execution_count": 41,
   "id": "43ddbfe9-8a78-47dc-a86a-b5e64ba10ca0",
   "metadata": {},
   "outputs": [
    {
     "name": "stdout",
     "output_type": "stream",
     "text": [
      "38.26682340647857\n"
     ]
    }
   ],
   "source": [
    "#print(f.convert_if_datetime(combined[\"Polar_time\"]))\n",
    "\n",
    "treningstid_mean=np.nanmean(f.convert_if_datetime(combined[\"Polar_time\"]))\n",
    "treningstid_std=np.nanstd (f.convert_if_datetime(combined[\"Polar_time\"]))\n",
    "print(treningstid_mean)\n",
    "\n"
   ]
  },
  {
   "cell_type": "markdown",
   "id": "b0ba8bd3-2743-4727-bd59-405792971914",
   "metadata": {},
   "source": [
    "### Pulssone i treningsøktene"
   ]
  },
  {
   "cell_type": "code",
   "execution_count": null,
   "id": "d3e232ae-49b1-495c-ac2f-6439588c94e4",
   "metadata": {},
   "outputs": [],
   "source": []
  },
  {
   "cell_type": "code",
   "execution_count": 21,
   "id": "0c4d7f8e",
   "metadata": {},
   "outputs": [
    {
     "data": {
      "text/plain": [
       "(array([6017]), array([60.45966229]))"
      ]
     },
     "execution_count": 21,
     "metadata": {},
     "output_type": "execute_result"
    }
   ],
   "source": [
    "f.gen_percent(combined, ID=6017,teller=\"Avg_HR\",nevner=\"HR_max\")"
   ]
  },
  {
   "cell_type": "markdown",
   "id": "54c67c40-e3ff-44dc-b40f-470f7288186d",
   "metadata": {},
   "source": [
    "Oversikt over treningspuls for alle deltagere "
   ]
  },
  {
   "cell_type": "code",
   "execution_count": 42,
   "id": "18112b4b",
   "metadata": {},
   "outputs": [
    {
     "name": "stdout",
     "output_type": "stream",
     "text": [
      "[6001 6002 6003 6004 6005 6006 6007 6008 6009 6010 6011 6012 6013 6014\n",
      " 6015 6016 6017 6018 6019 6020 6021 6022]\n",
      "[50.64935065 58.94039735 48.23529412 51.76470588 46.42857143 53.6416185\n",
      " 56.32183908 52.08825847 49.75084712 52.28571429 56.91287879 75.80174927\n",
      " 55.48862115 40.81081081 49.40600978 55.         60.45966229 48.57389801\n",
      " 73.60730594 77.43589744 58.28828829 47.03925482]\n",
      "middelverdi 55.40595333966687\n",
      "maxverdi 77.43589743589745\n",
      "minverdi 40.81081081081081\n",
      "Mean exercise HR for all participants are 55.4 % of HRmax, std 9.2\n"
     ]
    }
   ],
   "source": [
    "ID,hr=f.gen_percent(combined,teller=\"Avg_HR\",nevner=\"HR_max\")\n",
    "print(ID)\n",
    "print(hr)\n",
    "treningspuls_mean=np.nanmean(hr)\n",
    "treningspuls_std=np.nanstd(hr)\n",
    "print('middelverdi',np.nanmean(hr)) # middelverdi uten nan (missing data, nan=Not a Number)\n",
    "print('maxverdi',np.nanmax(hr))\n",
    "print('minverdi',np.nanmin(hr))\n",
    "#print(\"{:.2f}\".format(a))\n",
    "print('Mean exercise HR for all participants are {:.1f} % of HRmax, std {:.1f}'.format(treningspuls_mean, treningspuls_std))\n",
    "#print('std {:.1f}'.format(treningspuls_std))"
   ]
  },
  {
   "cell_type": "markdown",
   "id": "35f6afe9",
   "metadata": {},
   "source": [
    "For å få en oversikt over hvor mye av treningen som foregår i >=70%HRmax hos en deltager tar vi utgangspunkt utregning \n",
    "(Time in zone / Time recorded Polar)*100. Dette virker kun hvis format er min i helt tall eller hh.mm.ss"
   ]
  },
  {
   "cell_type": "code",
   "execution_count": 31,
   "id": "7aa5f3ec",
   "metadata": {},
   "outputs": [
    {
     "name": "stdout",
     "output_type": "stream",
     "text": [
      "[6001]\n",
      "[1.33878765]\n"
     ]
    }
   ],
   "source": [
    "ID,zone=f.gen_percent(combined,ID=6001,teller='Time_in_zone',nevner='Polar_time')\n",
    "print(ID)\n",
    "print(zone)"
   ]
  },
  {
   "cell_type": "markdown",
   "id": "b7886d88-a6f0-4343-8c61-07b7edbe2cf9",
   "metadata": {},
   "source": [
    "Ønsker nå å finne hvor mye % som blir brukt i treningssne >70%HR max for alle "
   ]
  },
  {
   "cell_type": "code",
   "execution_count": 44,
   "id": "164f8776-1380-49cf-8084-cd57800295fb",
   "metadata": {},
   "outputs": [
    {
     "name": "stdout",
     "output_type": "stream",
     "text": [
      "Time used in training zone > 70 % HR max for all participants are: 10.39 %, stv: 19.29\n"
     ]
    }
   ],
   "source": [
    "ID_all,zone_all=f.gen_percent(combined,teller='Time_in_zone',nevner='Polar_time')\n",
    "#print(\"ID_all\",ID_all)\n",
    "#print(\"Zone\", zone_all)\n",
    "print('Time used in training zone > 70 % HR max for all participants are: {:.2f} %, stv: {:.2f}'.format(np.mean(zone_all),np.std(zone_all)))\n",
    "#print(\"std  {:.2f}\".format( np.std(zone_all)))"
   ]
  },
  {
   "cell_type": "code",
   "execution_count": 9,
   "id": "600d71b5",
   "metadata": {},
   "outputs": [
    {
     "name": "stdout",
     "output_type": "stream",
     "text": [
      "nr 6017:      HR_max  Avg_HR\n",
      "0    164.0   101.0\n",
      "1    164.0    90.0\n",
      "2    164.0     NaN\n",
      "3    164.0     NaN\n",
      "4    164.0    99.0\n",
      "5    164.0   106.0\n",
      "6    164.0   106.0\n",
      "7    164.0   120.0\n",
      "8    164.0   108.0\n",
      "9    164.0   109.0\n",
      "10   164.0    95.0\n",
      "11   164.0   101.0\n",
      "12   164.0    78.0\n",
      "13   164.0    89.0\n",
      "14   164.0    87.0\n"
     ]
    }
   ],
   "source": [
    "pd.set_option(\"display.max_columns\", None)\n",
    "#print(combined.describe())\n",
    "#print(combined.head())\n",
    "print(\"nr 6017: \", combined[[\"HR_max\", \"Avg_HR\"]][combined[\"ID\"] == 6017])\n",
    "#f.describe(combined)\n",
    "\n",
    "#f.combine_files(path, subname = \"Clinical\", combined_filename = \"Clinical_Combined.xlsx\", avoid_folder = \"Gamle\")"
   ]
  },
  {
   "cell_type": "code",
   "execution_count": 20,
   "id": "ad91a681-7fed-4741-bc63-5774a619c1d9",
   "metadata": {},
   "outputs": [
    {
     "data": {
      "text/plain": [
       "2.0    15\n",
       "Name: Betablocker, dtype: int64"
      ]
     },
     "execution_count": 20,
     "metadata": {},
     "output_type": "execute_result"
    }
   ],
   "source": [
    "dfxx=pd.read_spss('')\n",
    "dfxx['Betablocker'].value_counts()\n",
    "\n",
    "#combined_id=combined[combined[\"ID\"] == 6017]\n",
    "#combined_id['Betablocker'].value_counts()"
   ]
  },
  {
   "cell_type": "code",
   "execution_count": 17,
   "id": "dc063816",
   "metadata": {},
   "outputs": [
    {
     "name": "stdout",
     "output_type": "stream",
     "text": [
      "           HR_max      Avg_HR\n",
      "count  393.000000  308.000000\n",
      "mean   161.743003   89.402597\n",
      "std     14.967400   15.563056\n",
      "min    130.000000   54.000000\n",
      "25%    147.000000   78.000000\n",
      "50%    166.000000   88.000000\n",
      "75%    175.000000  100.250000\n",
      "max    185.000000  134.000000\n",
      "nr 6017:      HR_max  Avg_HR\n",
      "0    164.0   101.0\n",
      "1    164.0    90.0\n",
      "2    164.0     NaN\n",
      "3    164.0     NaN\n",
      "4    164.0    99.0\n",
      "5    164.0   106.0\n",
      "6    164.0   106.0\n",
      "7    164.0   120.0\n",
      "8    164.0   108.0\n",
      "9    164.0   109.0\n",
      "10   164.0    95.0\n",
      "11   164.0   101.0\n",
      "12   164.0    78.0\n",
      "13   164.0    89.0\n",
      "14   164.0    87.0\n"
     ]
    }
   ],
   "source": [
    "#Oversikt for alle deltagere samlet:\n",
    "col=['HR_max','Avg_HR']\n",
    "#pd.set_option(\"display.max_columns\", None)\n",
    "#print(combined.describe())\n",
    "print(combined[col].describe())\n",
    "#print(combined.head())\n",
    "#Hvis ønskelig med oversikt fra en deltager:\n",
    "print(\"nr 6017: \", combined[[\"HR_max\", \"Avg_HR\"]][combined[\"ID\"] == 6017])"
   ]
  },
  {
   "cell_type": "code",
   "execution_count": 11,
   "id": "8fc3a09d",
   "metadata": {},
   "outputs": [
    {
     "name": "stdout",
     "output_type": "stream",
     "text": [
      "-------------------------------------\n",
      "6017\n",
      "count    12.000000\n",
      "mean      4.000000\n",
      "std       6.410219\n",
      "min       0.000000\n",
      "25%       0.000000\n",
      "50%       1.500000\n",
      "75%       3.750000\n",
      "max      21.000000\n",
      "Name: Time_in_zone, dtype: float64\n",
      "-------------------------------------\n",
      "-------------------------------------\n",
      "6001\n",
      "count    7.000000\n",
      "mean     0.428571\n",
      "std      1.133893\n",
      "min      0.000000\n",
      "25%      0.000000\n",
      "50%      0.000000\n",
      "75%      0.000000\n",
      "max      3.000000\n",
      "Name: Time_in_zone, dtype: float64\n",
      "-------------------------------------\n"
     ]
    },
    {
     "data": {
      "text/plain": [
       "0"
      ]
     },
     "execution_count": 11,
     "metadata": {},
     "output_type": "execute_result"
    }
   ],
   "source": [
    "f.statistics_patient(combined, [6017,6001])"
   ]
  },
  {
   "cell_type": "code",
   "execution_count": null,
   "id": "ae6d07e3-f068-4b9f-8baa-057b2328472a",
   "metadata": {},
   "outputs": [],
   "source": []
  },
  {
   "cell_type": "markdown",
   "id": "d9c843dc",
   "metadata": {
    "tags": []
   },
   "source": [
    "## Testresultater\n",
    "Søke igjennom  spss filer som ligger på `\\\\ihelse.net\\Forskning\\hst\\ID1321`\n",
    " som begynner med 'FIRST' unntatt mappe som inneholder 'Gamle'.\n",
    "\n",
    "Hente data fra filene som gir oversikt over motorisk progresjon der x- aksen viser dag siden hjerneslag\n",
    "\n",
    "* Lage ny funksjon for å beregne differanse mellom to datoer slik at jeg får dag siden slag.\n",
    " Test_index= `testdate 1`- `Date_stroke` \n",
    "\n",
    "SixMWT_index=SixMWT_Date_adm-Date_stroke\n",
    "SixMWT_index=SixMWT_Date_wk1-Date_stroke\n",
    "SixMWT_index=SixMWT_Date_wk2-Date_stroke\n",
    "... osv\n"
   ]
  },
  {
   "cell_type": "code",
   "execution_count": 12,
   "id": "077ef1e3",
   "metadata": {},
   "outputs": [],
   "source": [
    "\n",
    "columns = [\"SixMWT_distance_adm\", \"SixMWT_distance_wk1\", \"SixMWT_distance_wk2\", \"SixMWT_distance_wk3\", \"SixMWT_distance_wk4\", \"SixMWT_distance_wk5\", \"SixMWT_distance_dc\", \"SixMWT_distance_3m\"]\n"
   ]
  },
  {
   "cell_type": "markdown",
   "id": "e648384e",
   "metadata": {},
   "source": [
    "Last inn alle data i pandas dataframe `df`"
   ]
  },
  {
   "cell_type": "code",
   "execution_count": 13,
   "id": "833b89c7",
   "metadata": {},
   "outputs": [
    {
     "name": "stdout",
     "output_type": "stream",
     "text": [
      "reading file  FIRST_ADM_2021.12.06_1.sav\n",
      "SixMWT_distance_adm  middelverdi=  173.97916666666666 standardavvik=  172.68301439384513\n",
      "reading file  FIRST_wk1_2021.12.06.sav\n",
      "SixMWT_distance_wk1  middelverdi=  242.8777777777778 standardavvik=  205.22857717405947\n",
      "reading file  FIRST_wk2_2021.12.06.sav\n",
      "SixMWT_distance_wk2  middelverdi=  226.2 standardavvik=  176.75770610263834\n",
      "reading file  FIRST_wk3_2021.12.03.sav\n",
      "SixMWT_distance_wk3  middelverdi=  239.15 standardavvik=  161.14349195670297\n",
      "reading file  FIRST_wk4_2021.11.26.sav\n",
      "SixMWT_distance_wk4  middelverdi=  287.25 standardavvik=  201.1390480902867\n",
      "reading file  FIRST_wk5_2021.11.26.sav\n",
      "SixMWT_distance_wk5  middelverdi=  364.0 standardavvik=  77.78174593052023\n",
      "reading file  FIRST_DC_2021.12.03.sav\n",
      "SixMWT_distance_dc  middelverdi=  306.55263157894734 standardavvik=  211.8569285794885\n",
      "reading file  FIRST_3M_2021.12.14.sav\n",
      "SixMWT_distance_3m  middelverdi=  491.0625 standardavvik=  136.6440729727105\n"
     ]
    }
   ],
   "source": [
    "m,s=gjennomsnitt_test(columns)"
   ]
  },
  {
   "cell_type": "code",
   "execution_count": 14,
   "id": "755db1e8",
   "metadata": {},
   "outputs": [
    {
     "data": {
      "text/plain": [
       "<matplotlib.legend.Legend at 0x1fce45f1c88>"
      ]
     },
     "execution_count": 14,
     "metadata": {},
     "output_type": "execute_result"
    },
    {
     "data": {
      "image/png": "[encoded data removed]",
      "text/plain": [
       "<Figure size 432x288 with 1 Axes>"
      ]
     },
     "metadata": {
      "needs_background": "light"
     },
     "output_type": "display_data"
    }
   ],
   "source": [
    "x = [\"adm\", \"wk1\", \"wk2\",\"wk3\",\"wk4\",\"wk5\", \"dc\", \"3mo\"]\n",
    "#plot(x, m, s, title = \"Six minute walk test\", ymax=700, xlabel = \"Time\", ylabel = \"Distance [m]\")\n",
    "plt.title('Six minute walk test')\n",
    "plt.xlabel('Time')\n",
    "plt.ylabel('Distance [m]')\n",
    "plt.scatter(x,m,label='Average meter')\n",
    "plt.errorbar(x,m,s)\n",
    "plt.legend()"
   ]
  },
  {
   "cell_type": "code",
   "execution_count": 15,
   "id": "c4dcf33b",
   "metadata": {},
   "outputs": [
    {
     "data": {
      "image/png": "[encoded data removed]",
      "text/plain": [
       "<Figure size 864x504 with 1 Axes>"
      ]
     },
     "metadata": {
      "needs_background": "light"
     },
     "output_type": "display_data"
    }
   ],
   "source": [
    "plot(x, m, s, title = \"Six minute walk test\", ymax=700, xlabel = \"Time\", ylabel = \"Distance [m]\")"
   ]
  },
  {
   "cell_type": "markdown",
   "id": "a2b7f45a",
   "metadata": {},
   "source": [
    "Henter ut andre kolonner fra SPSS filene"
   ]
  },
  {
   "cell_type": "code",
   "execution_count": 16,
   "id": "88783705",
   "metadata": {},
   "outputs": [],
   "source": [
    "\n",
    "columns = [\"BBS_SumScore_adm\", \"BBS_SumScore_wk1\", \"BBS_SumScore_wk2\", \"BBS_SumScore_wk3\", \"BBS_SumScore_wk4\", \"BBS_SumScore_wk5\", \"BBS_SumScore_dc\", \"BBS_SumScore_3m\"]\n"
   ]
  },
  {
   "cell_type": "code",
   "execution_count": 17,
   "id": "3022b1ea",
   "metadata": {},
   "outputs": [
    {
     "name": "stdout",
     "output_type": "stream",
     "text": [
      "reading file  FIRST_ADM_2021.12.06_1.sav\n",
      "BBS_SumScore_adm  middelverdi=  24.916666666666668 standardavvik=  18.99637646606794\n",
      "reading file  FIRST_wk1_2021.12.06.sav\n",
      "BBS_SumScore_wk1  middelverdi=  26.0 standardavvik=  17.871066000661518\n",
      "reading file  FIRST_wk2_2021.12.06.sav\n",
      "BBS_SumScore_wk2  middelverdi=  31.5625 standardavvik=  19.623009453190406\n",
      "reading file  FIRST_wk3_2021.12.03.sav\n",
      "BBS_SumScore_wk3  middelverdi=  34.4 standardavvik=  19.13228800861111\n",
      "reading file  FIRST_wk4_2021.11.26.sav\n",
      "BBS_SumScore_wk4  middelverdi=  35.75 standardavvik=  21.360009363293827\n",
      "reading file  FIRST_wk5_2021.11.26.sav\n",
      "BBS_SumScore_wk5  middelverdi=  47.5 standardavvik=  4.949747468305833\n",
      "reading file  FIRST_DC_2021.12.03.sav\n",
      "BBS_SumScore_dc  middelverdi=  35.25 standardavvik=  20.818261214616363\n",
      "reading file  FIRST_3M_2021.12.14.sav\n",
      "BBS_SumScore_3m  middelverdi=  39.72727272727273 standardavvik=  24.18301432448366\n"
     ]
    },
    {
     "data": {
      "image/png": "[encoded data removed]",
      "text/plain": [
       "<Figure size 864x504 with 1 Axes>"
      ]
     },
     "metadata": {
      "needs_background": "light"
     },
     "output_type": "display_data"
    }
   ],
   "source": [
    "m,s=gjennomsnitt_test(columns)\n",
    "plot(x, m, s, title = \"BBS\", ymax=60, xlabel = \"Time\", ylabel = \"Score [0-56]\")"
   ]
  },
  {
   "cell_type": "code",
   "execution_count": 18,
   "id": "cf43f14b-a74e-40f5-9198-da4e1b216470",
   "metadata": {},
   "outputs": [
    {
     "name": "stdout",
     "output_type": "stream",
     "text": [
      "reading file  FIRST_ADM_2021.12.06_1.sav\n",
      "VO2peak_adm  middelverdi=  32.04114285714285 standardavvik=  7.199126507861247\n",
      "reading file  FIRST_wk1_2021.12.06.sav\n",
      "VO2peak_wk1  middelverdi=  29.178999999999995 standardavvik=  7.36780451242657\n",
      "reading file  FIRST_wk2_2021.12.06.sav\n",
      "VO2peak_wk2  middelverdi=  27.651 standardavvik=  9.034322762541628\n",
      "reading file  FIRST_wk3_2021.12.03.sav\n",
      "VO2peak_wk3  middelverdi=  30.538 standardavvik=  10.242539724111397\n",
      "reading file  FIRST_wk4_2021.11.26.sav\n",
      "VO2peak_wk4  middelverdi=  26.593333333333334 standardavvik=  12.243403666192393\n",
      "reading file  FIRST_wk5_2021.11.26.sav\n",
      "VO2peak_wk5  middelverdi=  18.55 standardavvik=  0.5091168824543134\n",
      "reading file  FIRST_DC_2021.12.03.sav\n",
      "VO2peak_dc  middelverdi=  29.31272727272727 standardavvik=  13.524918551258704\n",
      "reading file  FIRST_3M_2021.12.14.sav\n",
      "VO2peak_3m  middelverdi=  26.684285714285718 standardavvik=  12.216807898878299\n"
     ]
    },
    {
     "data": {
      "image/png": "[encoded data removed]",
      "text/plain": [
       "<Figure size 864x504 with 1 Axes>"
      ]
     },
     "metadata": {
      "needs_background": "light"
     },
     "output_type": "display_data"
    }
   ],
   "source": [
    "columns = [\"VO2peak_adm\", \"VO2peak_wk1\", \"VO2peak_wk2\", \"VO2peak_wk3\", \"VO2peak_wk4\", \"VO2peak_wk5\", \"VO2peak_dc\", \"VO2peak_3m\"]\n",
    "m,s=gjennomsnitt_test(columns)\n",
    "plot(x, m, s, title = \"Estimated peak O2\", ymax=60, xlabel = \"Time\", ylabel = \"Volume [ml*min*kg]\")"
   ]
  },
  {
   "cell_type": "markdown",
   "id": "95389753",
   "metadata": {},
   "source": [
    "## Overnight recovery vs orthostatic test Polar Vantage V2\n"
   ]
  },
  {
   "cell_type": "code",
   "execution_count": 52,
   "id": "1a77dfb7",
   "metadata": {},
   "outputs": [],
   "source": [
    "columns = [\"Nightly_Recharge_status\", \"Restitusjon\"]\n",
    "file=\"Vantage_data_22.01.06.sav\""
   ]
  },
  {
   "cell_type": "code",
   "execution_count": 53,
   "id": "89e6e25d",
   "metadata": {},
   "outputs": [
    {
     "name": "stdout",
     "output_type": "stream",
     "text": [
      "Index(['ID', 'Age', 'Gender', 'Index1', 'date', 'Polar_aktiv_tid',\n",
      "       'Activity_steps', 'Activity_zone_ble_ikke_brukt', 'Activity_zone_hvile',\n",
      "       'Activity_zone_sittende', 'Activity_zone_standing',\n",
      "       'Activity_zone_walking', 'Activity_zone_running',\n",
      "       'Kontinuerligpuls_laveste', 'Kontinuerligpuls_høyeste',\n",
      "       'Timer_nattesøvn', 'Lett_søvn', 'Dyp_søvn', 'REM_søvn', 'Avbrudd_søvn',\n",
      "       'puls_registrert_hele_natta', 'pul_registrert_hele_dag',\n",
      "       'Nightly_Recharge_status', 'ANS', 'Sleepscore', 'Sleep_HR', 'Sleep_HRV',\n",
      "       'Sleep_RF', 'HRV_rest', 'HRV_stand', 'Restitusjon',\n",
      "       'Status_kardiobelastning', 'VurderingStatusKardiobelastning', 'TRIMP',\n",
      "       'Belastning', 'Toleranse', 'ADM_6MWT', 'DC_6MWT', 'filter_$'],\n",
      "      dtype='object')\n"
     ]
    },
    {
     "data": {
      "text/plain": [
       "0      status ikke tilgjengelig\n",
       "1             bygger basislinje\n",
       "2             bygger basislinje\n",
       "3                       Nedsatt\n",
       "4                       Nedsatt\n",
       "                 ...           \n",
       "639                         NaN\n",
       "640                         NaN\n",
       "641                         NaN\n",
       "642                         NaN\n",
       "643                         NaN\n",
       "Name: Nightly_Recharge_status, Length: 644, dtype: category\n",
       "Categories (8, object): ['Dårlig', 'God', 'Nedsatt', 'Ok', 'Svært dårlig', 'Svært god', 'bygger basislinje', 'status ikke tilgjengelig']"
      ]
     },
     "execution_count": 53,
     "metadata": {},
     "output_type": "execute_result"
    }
   ],
   "source": [
    "mappe=\"//ihelse.net/Forskning/hst/ID1321/\"\n",
    "df=pd.read_spss(mappe+file)\n",
    "print(df.columns)\n",
    "df.Nightly_Recharge_status"
   ]
  },
  {
   "cell_type": "code",
   "execution_count": 50,
   "id": "e38f509e-a9f2-4446-a4ca-a7d04dd5b5db",
   "metadata": {},
   "outputs": [
    {
     "data": {
      "text/plain": [
       "0      status ikke tilgjengelig\n",
       "1             bygger basislinje\n",
       "2             bygger basislinje\n",
       "3                       Nedsatt\n",
       "4                       Nedsatt\n",
       "                 ...           \n",
       "639                         NaN\n",
       "640                         NaN\n",
       "641                         NaN\n",
       "642                         NaN\n",
       "643                         NaN\n",
       "Name: Nightly_Recharge_status, Length: 644, dtype: category\n",
       "Categories (8, object): ['Dårlig', 'God', 'Nedsatt', 'Ok', 'Svært dårlig', 'Svært god', 'bygger basislinje', 'status ikke tilgjengelig']"
      ]
     },
     "execution_count": 50,
     "metadata": {},
     "output_type": "execute_result"
    }
   ],
   "source": []
  },
  {
   "cell_type": "code",
   "execution_count": 49,
   "id": "04103fb4-5d4b-4efd-9c6a-87949ac4d86e",
   "metadata": {},
   "outputs": [
    {
     "ename": "TypeError",
     "evalue": "'<' not supported between instances of 'int' and 'str'",
     "output_type": "error",
     "traceback": [
      "\u001b[1;31m---------------------------------------------------------------------------\u001b[0m",
      "\u001b[1;31mTypeError\u001b[0m                                 Traceback (most recent call last)",
      "\u001b[1;32m~\\AppData\\Local\\Temp/ipykernel_10360/983971233.py\u001b[0m in \u001b[0;36m<module>\u001b[1;34m\u001b[0m\n\u001b[0;32m      1\u001b[0m \u001b[1;31m#add a new column category next to the age group.\u001b[0m\u001b[1;33m\u001b[0m\u001b[1;33m\u001b[0m\u001b[1;33m\u001b[0m\u001b[0m\n\u001b[1;32m----> 2\u001b[1;33m \u001b[0mcategory\u001b[0m \u001b[1;33m=\u001b[0m \u001b[0mpd\u001b[0m\u001b[1;33m.\u001b[0m\u001b[0mcut\u001b[0m\u001b[1;33m(\u001b[0m\u001b[0mdf\u001b[0m\u001b[1;33m.\u001b[0m\u001b[0mNightly_Recharge_status\u001b[0m\u001b[1;33m,\u001b[0m\u001b[0mbins\u001b[0m\u001b[1;33m=\u001b[0m\u001b[1;33m[\u001b[0m\u001b[1;36m0\u001b[0m\u001b[1;33m,\u001b[0m\u001b[1;36m2\u001b[0m\u001b[1;33m,\u001b[0m\u001b[1;36m5\u001b[0m\u001b[1;33m,\u001b[0m\u001b[1;36m7\u001b[0m\u001b[1;33m]\u001b[0m\u001b[1;33m,\u001b[0m\u001b[0mlabels\u001b[0m\u001b[1;33m=\u001b[0m\u001b[1;33m[\u001b[0m\u001b[1;34m'Dårlig_restituert'\u001b[0m\u001b[1;33m,\u001b[0m\u001b[1;34m'Bra restituert'\u001b[0m\u001b[1;33m,\u001b[0m\u001b[1;34m'Uklart'\u001b[0m\u001b[1;33m]\u001b[0m\u001b[1;33m)\u001b[0m\u001b[1;33m\u001b[0m\u001b[1;33m\u001b[0m\u001b[0m\n\u001b[0m\u001b[0;32m      3\u001b[0m \u001b[0mdf\u001b[0m\u001b[1;33m.\u001b[0m\u001b[0minsert\u001b[0m\u001b[1;33m(\u001b[0m\u001b[1;36m21\u001b[0m\u001b[1;33m,\u001b[0m\u001b[1;34m'Nightly recharge 3 delt'\u001b[0m\u001b[1;33m,\u001b[0m\u001b[0mcategory\u001b[0m\u001b[1;33m)\u001b[0m\u001b[1;33m\u001b[0m\u001b[1;33m\u001b[0m\u001b[0m\n\u001b[0;32m      4\u001b[0m \u001b[0mprint\u001b[0m\u001b[1;33m(\u001b[0m\u001b[0mdf\u001b[0m\u001b[1;33m.\u001b[0m\u001b[0mcolumns\u001b[0m\u001b[1;33m)\u001b[0m\u001b[1;33m\u001b[0m\u001b[1;33m\u001b[0m\u001b[0m\n",
      "\u001b[1;32mC:\\ProgramData\\Anaconda3\\envs\\myspss\\lib\\site-packages\\pandas\\core\\reshape\\tile.py\u001b[0m in \u001b[0;36mcut\u001b[1;34m(x, bins, right, labels, retbins, precision, include_lowest, duplicates, ordered)\u001b[0m\n\u001b[0;32m    294\u001b[0m         \u001b[0mdtype\u001b[0m\u001b[1;33m=\u001b[0m\u001b[0mdtype\u001b[0m\u001b[1;33m,\u001b[0m\u001b[1;33m\u001b[0m\u001b[1;33m\u001b[0m\u001b[0m\n\u001b[0;32m    295\u001b[0m         \u001b[0mduplicates\u001b[0m\u001b[1;33m=\u001b[0m\u001b[0mduplicates\u001b[0m\u001b[1;33m,\u001b[0m\u001b[1;33m\u001b[0m\u001b[1;33m\u001b[0m\u001b[0m\n\u001b[1;32m--> 296\u001b[1;33m         \u001b[0mordered\u001b[0m\u001b[1;33m=\u001b[0m\u001b[0mordered\u001b[0m\u001b[1;33m,\u001b[0m\u001b[1;33m\u001b[0m\u001b[1;33m\u001b[0m\u001b[0m\n\u001b[0m\u001b[0;32m    297\u001b[0m     )\n\u001b[0;32m    298\u001b[0m \u001b[1;33m\u001b[0m\u001b[0m\n",
      "\u001b[1;32mC:\\ProgramData\\Anaconda3\\envs\\myspss\\lib\\site-packages\\pandas\\core\\reshape\\tile.py\u001b[0m in \u001b[0;36m_bins_to_cuts\u001b[1;34m(x, bins, right, labels, precision, include_lowest, dtype, duplicates, ordered)\u001b[0m\n\u001b[0;32m    419\u001b[0m \u001b[1;33m\u001b[0m\u001b[0m\n\u001b[0;32m    420\u001b[0m     \u001b[0mside\u001b[0m \u001b[1;33m=\u001b[0m \u001b[1;34m\"left\"\u001b[0m \u001b[1;32mif\u001b[0m \u001b[0mright\u001b[0m \u001b[1;32melse\u001b[0m \u001b[1;34m\"right\"\u001b[0m\u001b[1;33m\u001b[0m\u001b[1;33m\u001b[0m\u001b[0m\n\u001b[1;32m--> 421\u001b[1;33m     \u001b[0mids\u001b[0m \u001b[1;33m=\u001b[0m \u001b[0mensure_platform_int\u001b[0m\u001b[1;33m(\u001b[0m\u001b[0mbins\u001b[0m\u001b[1;33m.\u001b[0m\u001b[0msearchsorted\u001b[0m\u001b[1;33m(\u001b[0m\u001b[0mx\u001b[0m\u001b[1;33m,\u001b[0m \u001b[0mside\u001b[0m\u001b[1;33m=\u001b[0m\u001b[0mside\u001b[0m\u001b[1;33m)\u001b[0m\u001b[1;33m)\u001b[0m\u001b[1;33m\u001b[0m\u001b[1;33m\u001b[0m\u001b[0m\n\u001b[0m\u001b[0;32m    422\u001b[0m \u001b[1;33m\u001b[0m\u001b[0m\n\u001b[0;32m    423\u001b[0m     \u001b[1;32mif\u001b[0m \u001b[0minclude_lowest\u001b[0m\u001b[1;33m:\u001b[0m\u001b[1;33m\u001b[0m\u001b[1;33m\u001b[0m\u001b[0m\n",
      "\u001b[1;31mTypeError\u001b[0m: '<' not supported between instances of 'int' and 'str'"
     ]
    }
   ],
   "source": [
    "#add a new column category next to the age group. \n",
    "category = pd.cut(df.Nightly_Recharge_status,bins=[0,2,5,7],labels=['Dårlig_restituert','Bra restituert','Uklart'])\n",
    "df.insert(21,'Nightly recharge 3 delt',category)\n",
    "print(df.columns)"
   ]
  },
  {
   "cell_type": "code",
   "execution_count": 23,
   "id": "79ba0481",
   "metadata": {},
   "outputs": [
    {
     "data": {
      "text/html": [
       "<div>\n",
       "<style scoped>\n",
       "    .dataframe tbody tr th:only-of-type {\n",
       "        vertical-align: middle;\n",
       "    }\n",
       "\n",
       "    .dataframe tbody tr th {\n",
       "        vertical-align: top;\n",
       "    }\n",
       "\n",
       "    .dataframe thead th {\n",
       "        text-align: right;\n",
       "    }\n",
       "</style>\n",
       "<table border=\"1\" class=\"dataframe\">\n",
       "  <thead>\n",
       "    <tr style=\"text-align: right;\">\n",
       "      <th>Restitusjon</th>\n",
       "      <th>Ikke restituert</th>\n",
       "      <th>Ikke tilgjengelig</th>\n",
       "      <th>Restituert</th>\n",
       "      <th>All</th>\n",
       "    </tr>\n",
       "    <tr>\n",
       "      <th>Nightly_Recharge_status</th>\n",
       "      <th></th>\n",
       "      <th></th>\n",
       "      <th></th>\n",
       "      <th></th>\n",
       "    </tr>\n",
       "  </thead>\n",
       "  <tbody>\n",
       "    <tr>\n",
       "      <th>Dårlig</th>\n",
       "      <td>5</td>\n",
       "      <td>1</td>\n",
       "      <td>3</td>\n",
       "      <td>9</td>\n",
       "    </tr>\n",
       "    <tr>\n",
       "      <th>God</th>\n",
       "      <td>17</td>\n",
       "      <td>6</td>\n",
       "      <td>23</td>\n",
       "      <td>46</td>\n",
       "    </tr>\n",
       "    <tr>\n",
       "      <th>Nedsatt</th>\n",
       "      <td>8</td>\n",
       "      <td>2</td>\n",
       "      <td>10</td>\n",
       "      <td>20</td>\n",
       "    </tr>\n",
       "    <tr>\n",
       "      <th>Ok</th>\n",
       "      <td>9</td>\n",
       "      <td>2</td>\n",
       "      <td>14</td>\n",
       "      <td>25</td>\n",
       "    </tr>\n",
       "    <tr>\n",
       "      <th>Svært dårlig</th>\n",
       "      <td>2</td>\n",
       "      <td>1</td>\n",
       "      <td>3</td>\n",
       "      <td>6</td>\n",
       "    </tr>\n",
       "    <tr>\n",
       "      <th>Svært god</th>\n",
       "      <td>2</td>\n",
       "      <td>1</td>\n",
       "      <td>3</td>\n",
       "      <td>6</td>\n",
       "    </tr>\n",
       "    <tr>\n",
       "      <th>bygger basislinje</th>\n",
       "      <td>1</td>\n",
       "      <td>13</td>\n",
       "      <td>0</td>\n",
       "      <td>14</td>\n",
       "    </tr>\n",
       "    <tr>\n",
       "      <th>status ikke tilgjengelig</th>\n",
       "      <td>11</td>\n",
       "      <td>3</td>\n",
       "      <td>19</td>\n",
       "      <td>33</td>\n",
       "    </tr>\n",
       "    <tr>\n",
       "      <th>All</th>\n",
       "      <td>55</td>\n",
       "      <td>29</td>\n",
       "      <td>75</td>\n",
       "      <td>159</td>\n",
       "    </tr>\n",
       "  </tbody>\n",
       "</table>\n",
       "</div>"
      ],
      "text/plain": [
       "Restitusjon               Ikke restituert  Ikke tilgjengelig  Restituert  All\n",
       "Nightly_Recharge_status                                                      \n",
       "Dårlig                                  5                  1           3    9\n",
       "God                                    17                  6          23   46\n",
       "Nedsatt                                 8                  2          10   20\n",
       "Ok                                      9                  2          14   25\n",
       "Svært dårlig                            2                  1           3    6\n",
       "Svært god                               2                  1           3    6\n",
       "bygger basislinje                       1                 13           0   14\n",
       "status ikke tilgjengelig               11                  3          19   33\n",
       "All                                    55                 29          75  159"
      ]
     },
     "execution_count": 23,
     "metadata": {},
     "output_type": "execute_result"
    }
   ],
   "source": [
    "contab_freq = pd.crosstab(\n",
    "    df['Nightly_Recharge_status'],\n",
    "    df['Restitusjon'],\n",
    "    margins = True\n",
    "   )\n",
    "contab_freq"
   ]
  },
  {
   "cell_type": "code",
   "execution_count": 26,
   "id": "b2ce3db6",
   "metadata": {},
   "outputs": [
    {
     "data": {
      "text/html": [
       "<div>\n",
       "<style scoped>\n",
       "    .dataframe tbody tr th:only-of-type {\n",
       "        vertical-align: middle;\n",
       "    }\n",
       "\n",
       "    .dataframe tbody tr th {\n",
       "        vertical-align: top;\n",
       "    }\n",
       "\n",
       "    .dataframe thead th {\n",
       "        text-align: right;\n",
       "    }\n",
       "</style>\n",
       "<table border=\"1\" class=\"dataframe\">\n",
       "  <thead>\n",
       "    <tr style=\"text-align: right;\">\n",
       "      <th>Restitusjon</th>\n",
       "      <th>Ikke restituert</th>\n",
       "      <th>Ikke tilgjengelig</th>\n",
       "      <th>Restituert</th>\n",
       "    </tr>\n",
       "    <tr>\n",
       "      <th>Nightly_Recharge_status</th>\n",
       "      <th></th>\n",
       "      <th></th>\n",
       "      <th></th>\n",
       "    </tr>\n",
       "  </thead>\n",
       "  <tbody>\n",
       "    <tr>\n",
       "      <th>Dårlig</th>\n",
       "      <td>0.555556</td>\n",
       "      <td>0.111111</td>\n",
       "      <td>0.333333</td>\n",
       "    </tr>\n",
       "    <tr>\n",
       "      <th>God</th>\n",
       "      <td>0.369565</td>\n",
       "      <td>0.130435</td>\n",
       "      <td>0.500000</td>\n",
       "    </tr>\n",
       "    <tr>\n",
       "      <th>Nedsatt</th>\n",
       "      <td>0.400000</td>\n",
       "      <td>0.100000</td>\n",
       "      <td>0.500000</td>\n",
       "    </tr>\n",
       "    <tr>\n",
       "      <th>Ok</th>\n",
       "      <td>0.360000</td>\n",
       "      <td>0.080000</td>\n",
       "      <td>0.560000</td>\n",
       "    </tr>\n",
       "    <tr>\n",
       "      <th>Svært dårlig</th>\n",
       "      <td>0.333333</td>\n",
       "      <td>0.166667</td>\n",
       "      <td>0.500000</td>\n",
       "    </tr>\n",
       "    <tr>\n",
       "      <th>Svært god</th>\n",
       "      <td>0.333333</td>\n",
       "      <td>0.166667</td>\n",
       "      <td>0.500000</td>\n",
       "    </tr>\n",
       "    <tr>\n",
       "      <th>bygger basislinje</th>\n",
       "      <td>0.071429</td>\n",
       "      <td>0.928571</td>\n",
       "      <td>0.000000</td>\n",
       "    </tr>\n",
       "    <tr>\n",
       "      <th>status ikke tilgjengelig</th>\n",
       "      <td>0.333333</td>\n",
       "      <td>0.090909</td>\n",
       "      <td>0.575758</td>\n",
       "    </tr>\n",
       "    <tr>\n",
       "      <th>All</th>\n",
       "      <td>0.345912</td>\n",
       "      <td>0.182390</td>\n",
       "      <td>0.471698</td>\n",
       "    </tr>\n",
       "  </tbody>\n",
       "</table>\n",
       "</div>"
      ],
      "text/plain": [
       "Restitusjon               Ikke restituert  Ikke tilgjengelig  Restituert\n",
       "Nightly_Recharge_status                                                 \n",
       "Dårlig                           0.555556           0.111111    0.333333\n",
       "God                              0.369565           0.130435    0.500000\n",
       "Nedsatt                          0.400000           0.100000    0.500000\n",
       "Ok                               0.360000           0.080000    0.560000\n",
       "Svært dårlig                     0.333333           0.166667    0.500000\n",
       "Svært god                        0.333333           0.166667    0.500000\n",
       "bygger basislinje                0.071429           0.928571    0.000000\n",
       "status ikke tilgjengelig         0.333333           0.090909    0.575758\n",
       "All                              0.345912           0.182390    0.471698"
      ]
     },
     "execution_count": 26,
     "metadata": {},
     "output_type": "execute_result"
    }
   ],
   "source": [
    "pd.crosstab(\n",
    "    df['Nightly_Recharge_status'],\n",
    "    df['Restitusjon'],\n",
    "    margins = True,\n",
    "    normalize ='index'\n",
    "   )"
   ]
  },
  {
   "cell_type": "markdown",
   "id": "5e8acf3f-3098-4295-a092-43a8c0f224ae",
   "metadata": {},
   "source": [
    "Henter HRV og innleggelsesdat for å lage plott"
   ]
  },
  {
   "cell_type": "code",
   "execution_count": 30,
   "id": "9f1f019e-6bce-4ee3-a69f-c412a35dc358",
   "metadata": {},
   "outputs": [],
   "source": [
    "x=df['Index1'] # henter ut x-data\n",
    "y=df['Sleep_HRV'] # henter ut y-data\n",
    "z=df['Gender']\n",
    "#plot(x, y, s, title = \"HRV\", ymax=200, xlabel = \"Time [Days]\", ylabel = \"HRV [ms]\")"
   ]
  },
  {
   "cell_type": "code",
   "execution_count": 48,
   "id": "6fff065f-602c-4c28-b524-cdaee1e3afde",
   "metadata": {},
   "outputs": [
    {
     "data": {
      "text/plain": [
       "<matplotlib.legend.Legend at 0x1d798db0288>"
      ]
     },
     "execution_count": 48,
     "metadata": {},
     "output_type": "execute_result"
    },
    {
     "data": {
      "image/png": "[encoded data removed]",
      "text/plain": [
       "<Figure size 432x288 with 1 Axes>"
      ]
     },
     "metadata": {
      "needs_background": "light"
     },
     "output_type": "display_data"
    }
   ],
   "source": [
    "d=y[z=='Male']\n",
    "e=y[z=='Female']\n",
    "f=x[z=='Male']\n",
    "g=x[z=='Female']\n",
    "plt.plot(f,d,'*',c='b',label='Male')\n",
    "plt.plot(g,e,'^',c='r',label='Female')\n",
    "plt.legend()"
   ]
  },
  {
   "cell_type": "code",
   "execution_count": 40,
   "id": "66d746a5-2c5e-4f68-a713-3dc4ec2e4f96",
   "metadata": {},
   "outputs": [],
   "source": [
    "a=np.array(['Male','Male','Female'])\n",
    "b=np.array([100,30,50])\n",
    "c=np.array([1,2,1])"
   ]
  },
  {
   "cell_type": "code",
   "execution_count": 47,
   "id": "ffa812d4-e7db-47f5-b495-d631e45aa11e",
   "metadata": {},
   "outputs": [
    {
     "data": {
      "text/plain": [
       "<matplotlib.legend.Legend at 0x1d798d21dc8>"
      ]
     },
     "execution_count": 47,
     "metadata": {},
     "output_type": "execute_result"
    },
    {
     "data": {
      "image/png": "[encoded data removed]",
      "text/plain": [
       "<Figure size 432x288 with 1 Axes>"
      ]
     },
     "metadata": {
      "needs_background": "light"
     },
     "output_type": "display_data"
    }
   ],
   "source": [
    "d=b[a=='Male']\n",
    "e=b[a=='Female']\n",
    "f=c[a=='Male']\n",
    "g=c[a=='Female']\n",
    "plt.plot(f,d,'*',c='b',label='Male')\n",
    "plt.plot(g,e,'^',c='r',label='Female')\n",
    "plt.legend()"
   ]
  },
  {
   "cell_type": "code",
   "execution_count": 45,
   "id": "d6ca0a87-e3cd-4e80-8f7e-2f1122f71a1f",
   "metadata": {},
   "outputs": [
    {
     "name": "stdout",
     "output_type": "stream",
     "text": [
      "[100  30]\n",
      "[50]\n"
     ]
    }
   ],
   "source": [
    "print(d)\n",
    "print(e)"
   ]
  },
  {
   "cell_type": "code",
   "execution_count": null,
   "id": "40ffe5f0-3a77-464f-a1aa-2d62334c8373",
   "metadata": {},
   "outputs": [],
   "source": []
  }
 ],
 "metadata": {
  "kernelspec": {
   "display_name": "Python 3 (ipykernel)",
   "language": "python",
   "name": "python3"
  },
  "language_info": {
   "codemirror_mode": {
    "name": "ipython",
    "version": 3
   },
   "file_extension": ".py",
   "mimetype": "text/x-python",
   "name": "python",
   "nbconvert_exporter": "python",
   "pygments_lexer": "ipython3",
   "version": "3.8.5"
  }
 },
 "nbformat": 4,
 "nbformat_minor": 5
}
